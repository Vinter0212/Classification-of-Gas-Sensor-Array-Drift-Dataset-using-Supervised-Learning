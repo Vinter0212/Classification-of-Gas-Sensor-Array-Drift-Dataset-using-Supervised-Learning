{
 "cells": [
  {
   "cell_type": "code",
   "execution_count": 1,
   "metadata": {},
   "outputs": [],
   "source": [
    "import numpy as np\n",
    "import pandas as pd\n",
    "import matplotlib.pyplot as plt"
   ]
  },
  {
   "cell_type": "code",
   "execution_count": 2,
   "metadata": {},
   "outputs": [
    {
     "name": "stderr",
     "output_type": "stream",
     "text": [
      "C:\\Users\\vinay\\Anaconda3\\envs\\PythonGPU\\lib\\site-packages\\pandas\\core\\frame.py:6692: FutureWarning: Sorting because non-concatenation axis is not aligned. A future version\n",
      "of pandas will change to not sort by default.\n",
      "\n",
      "To accept the future behavior, pass 'sort=False'.\n",
      "\n",
      "To retain the current behavior and silence the warning, pass 'sort=True'.\n",
      "\n",
      "  sort=sort)\n"
     ]
    },
    {
     "name": "stdout",
     "output_type": "stream",
     "text": [
      "(3600, 130)\n"
     ]
    },
    {
     "data": {
      "text/html": [
       "<div>\n",
       "<style scoped>\n",
       "    .dataframe tbody tr th:only-of-type {\n",
       "        vertical-align: middle;\n",
       "    }\n",
       "\n",
       "    .dataframe tbody tr th {\n",
       "        vertical-align: top;\n",
       "    }\n",
       "\n",
       "    .dataframe thead th {\n",
       "        text-align: right;\n",
       "    }\n",
       "</style>\n",
       "<table border=\"1\" class=\"dataframe\">\n",
       "  <thead>\n",
       "    <tr style=\"text-align: right;\">\n",
       "      <th></th>\n",
       "      <th>1</th>\n",
       "      <th>10</th>\n",
       "      <th>100</th>\n",
       "      <th>101</th>\n",
       "      <th>102</th>\n",
       "      <th>103</th>\n",
       "      <th>104</th>\n",
       "      <th>105</th>\n",
       "      <th>106</th>\n",
       "      <th>107</th>\n",
       "      <th>...</th>\n",
       "      <th>92</th>\n",
       "      <th>93</th>\n",
       "      <th>94</th>\n",
       "      <th>95</th>\n",
       "      <th>96</th>\n",
       "      <th>97</th>\n",
       "      <th>98</th>\n",
       "      <th>99</th>\n",
       "      <th>Concentration</th>\n",
       "      <th>Target</th>\n",
       "    </tr>\n",
       "  </thead>\n",
       "  <tbody>\n",
       "    <tr>\n",
       "      <th>0</th>\n",
       "      <td>12285.658200</td>\n",
       "      <td>4.483500</td>\n",
       "      <td>2.349164</td>\n",
       "      <td>5.722172</td>\n",
       "      <td>-0.139009</td>\n",
       "      <td>-0.465744</td>\n",
       "      <td>-3.800066</td>\n",
       "      <td>707.645000</td>\n",
       "      <td>1.711209</td>\n",
       "      <td>0.682624</td>\n",
       "      <td>...</td>\n",
       "      <td>2.323621</td>\n",
       "      <td>5.073649</td>\n",
       "      <td>-0.213805</td>\n",
       "      <td>-0.486809</td>\n",
       "      <td>-3.713366</td>\n",
       "      <td>685.884700</td>\n",
       "      <td>1.646146</td>\n",
       "      <td>0.689340</td>\n",
       "      <td>10.0</td>\n",
       "      <td>4</td>\n",
       "    </tr>\n",
       "    <tr>\n",
       "      <th>0</th>\n",
       "      <td>-35.688900</td>\n",
       "      <td>1.053988</td>\n",
       "      <td>0.835907</td>\n",
       "      <td>4.290327</td>\n",
       "      <td>-0.070615</td>\n",
       "      <td>-0.400671</td>\n",
       "      <td>-3.366526</td>\n",
       "      <td>272.789100</td>\n",
       "      <td>1.263393</td>\n",
       "      <td>0.281797</td>\n",
       "      <td>...</td>\n",
       "      <td>1.593103</td>\n",
       "      <td>4.919168</td>\n",
       "      <td>-0.164006</td>\n",
       "      <td>-0.477857</td>\n",
       "      <td>-4.180351</td>\n",
       "      <td>214.979600</td>\n",
       "      <td>1.190208</td>\n",
       "      <td>0.270743</td>\n",
       "      <td>50.0</td>\n",
       "      <td>3</td>\n",
       "    </tr>\n",
       "    <tr>\n",
       "      <th>0</th>\n",
       "      <td>63927.221700</td>\n",
       "      <td>15.613843</td>\n",
       "      <td>4.432929</td>\n",
       "      <td>7.836516</td>\n",
       "      <td>-0.961312</td>\n",
       "      <td>-1.909178</td>\n",
       "      <td>-5.561091</td>\n",
       "      <td>3839.169000</td>\n",
       "      <td>4.656483</td>\n",
       "      <td>1.598137</td>\n",
       "      <td>...</td>\n",
       "      <td>6.341714</td>\n",
       "      <td>8.951311</td>\n",
       "      <td>-2.344393</td>\n",
       "      <td>-3.568995</td>\n",
       "      <td>-10.005102</td>\n",
       "      <td>4018.823900</td>\n",
       "      <td>4.716139</td>\n",
       "      <td>1.719803</td>\n",
       "      <td>250.0</td>\n",
       "      <td>4</td>\n",
       "    </tr>\n",
       "    <tr>\n",
       "      <th>0</th>\n",
       "      <td>2992.901900</td>\n",
       "      <td>1.652701</td>\n",
       "      <td>1.453701</td>\n",
       "      <td>4.697825</td>\n",
       "      <td>-0.355399</td>\n",
       "      <td>-0.871886</td>\n",
       "      <td>-4.510763</td>\n",
       "      <td>1457.080400</td>\n",
       "      <td>2.237314</td>\n",
       "      <td>0.585539</td>\n",
       "      <td>...</td>\n",
       "      <td>4.107977</td>\n",
       "      <td>7.215333</td>\n",
       "      <td>-1.337042</td>\n",
       "      <td>-2.067373</td>\n",
       "      <td>-5.150748</td>\n",
       "      <td>1384.680100</td>\n",
       "      <td>2.142778</td>\n",
       "      <td>0.560403</td>\n",
       "      <td>600.0</td>\n",
       "      <td>3</td>\n",
       "    </tr>\n",
       "    <tr>\n",
       "      <th>0</th>\n",
       "      <td>57524.781200</td>\n",
       "      <td>11.732548</td>\n",
       "      <td>3.445711</td>\n",
       "      <td>7.119800</td>\n",
       "      <td>-0.707498</td>\n",
       "      <td>-1.323338</td>\n",
       "      <td>-4.455648</td>\n",
       "      <td>2922.747500</td>\n",
       "      <td>3.738503</td>\n",
       "      <td>1.181123</td>\n",
       "      <td>...</td>\n",
       "      <td>4.532817</td>\n",
       "      <td>7.443282</td>\n",
       "      <td>-1.624920</td>\n",
       "      <td>-2.484971</td>\n",
       "      <td>-6.621210</td>\n",
       "      <td>3052.371600</td>\n",
       "      <td>3.722984</td>\n",
       "      <td>1.246032</td>\n",
       "      <td>150.0</td>\n",
       "      <td>4</td>\n",
       "    </tr>\n",
       "  </tbody>\n",
       "</table>\n",
       "<p>5 rows × 130 columns</p>\n",
       "</div>"
      ],
      "text/plain": [
       "              1         10       100       101        102        103  \\\n",
       "0  12285.658200   4.483500  2.349164  5.722172  -0.139009  -0.465744   \n",
       "0    -35.688900   1.053988  0.835907  4.290327  -0.070615  -0.400671   \n",
       "0  63927.221700  15.613843  4.432929  7.836516  -0.961312  -1.909178   \n",
       "0   2992.901900   1.652701  1.453701  4.697825  -0.355399  -0.871886   \n",
       "0  57524.781200  11.732548  3.445711  7.119800  -0.707498  -1.323338   \n",
       "\n",
       "         104          105       106       107  ...        92        93  \\\n",
       "0  -3.800066   707.645000  1.711209  0.682624  ...  2.323621  5.073649   \n",
       "0  -3.366526   272.789100  1.263393  0.281797  ...  1.593103  4.919168   \n",
       "0  -5.561091  3839.169000  4.656483  1.598137  ...  6.341714  8.951311   \n",
       "0  -4.510763  1457.080400  2.237314  0.585539  ...  4.107977  7.215333   \n",
       "0  -4.455648  2922.747500  3.738503  1.181123  ...  4.532817  7.443282   \n",
       "\n",
       "          94         95          96           97        98        99  \\\n",
       "0  -0.213805  -0.486809   -3.713366   685.884700  1.646146  0.689340   \n",
       "0  -0.164006  -0.477857   -4.180351   214.979600  1.190208  0.270743   \n",
       "0  -2.344393  -3.568995  -10.005102  4018.823900  4.716139  1.719803   \n",
       "0  -1.337042  -2.067373   -5.150748  1384.680100  2.142778  0.560403   \n",
       "0  -1.624920  -2.484971   -6.621210  3052.371600  3.722984  1.246032   \n",
       "\n",
       "  Concentration Target  \n",
       "0          10.0      4  \n",
       "0          50.0      3  \n",
       "0         250.0      4  \n",
       "0         600.0      3  \n",
       "0         150.0      4  \n",
       "\n",
       "[5 rows x 130 columns]"
      ]
     },
     "execution_count": 2,
     "metadata": {},
     "output_type": "execute_result"
    }
   ],
   "source": [
    "f=open('batch10.dat','r')\n",
    "df = pd.DataFrame()\n",
    "for line in f:\n",
    "    l1 = []\n",
    "    l2 = []\n",
    "    l1 = line.split(\" \")\n",
    "    l1 = l1[:-1]\n",
    "    for ele in l1:\n",
    "        l2.append(ele.split(\":\"))\n",
    "    ele1 = l2[0]\n",
    "    ele2 = [\"Target\",int(ele1[0].split(\";\")[0])]\n",
    "    ele3 = [\"Concentration\",float(ele1[0].split(\";\")[1])]\n",
    "    l2[0] = ele2\n",
    "    l2.append(ele3)\n",
    "    d1 = dict()\n",
    "    for ele in l2:\n",
    "        d1[ele[0]] = [ele[1]]\n",
    "    df_temp = pd.DataFrame.from_dict(d1)\n",
    "    df = df.append(df_temp)\n",
    "\n",
    "print (df.shape)\n",
    "df.head()"
   ]
  },
  {
   "cell_type": "code",
   "execution_count": 3,
   "metadata": {},
   "outputs": [],
   "source": [
    "X= df.iloc[:,0:129].values\n",
    "y= df.iloc[:,129].values"
   ]
  },
  {
   "cell_type": "code",
   "execution_count": 4,
   "metadata": {},
   "outputs": [
    {
     "name": "stderr",
     "output_type": "stream",
     "text": [
      "C:\\Users\\vinay\\Anaconda3\\envs\\PythonGPU\\lib\\site-packages\\sklearn\\utils\\deprecation.py:66: DeprecationWarning: Class Imputer is deprecated; Imputer was deprecated in version 0.20 and will be removed in 0.22. Import impute.SimpleImputer from sklearn instead.\n",
      "  warnings.warn(msg, category=DeprecationWarning)\n"
     ]
    },
    {
     "data": {
      "text/plain": [
       "array([[12285.6582, 4.4835, 2.349164, ..., 1.646146, 0.68934, 10.0],\n",
       "       [-35.6889, 1.053988, 0.835907, ..., 1.190208, 0.270743, 50.0],\n",
       "       [63927.2217, 15.613843, 4.432929, ..., 4.716139, 1.719803, 250.0],\n",
       "       ...,\n",
       "       [183271.5898, 14.5194, 5.9675, ..., 7.1268, 3.326, 600.0],\n",
       "       [29059.8516, 2.0694, 2.4153, ..., 2.3614, 0.98771, 150.0],\n",
       "       [230762.7607, 17.2688, 9.3168, ..., 9.9365, 4.7762, 1000.0]],\n",
       "      dtype=object)"
      ]
     },
     "execution_count": 4,
     "metadata": {},
     "output_type": "execute_result"
    }
   ],
   "source": [
    "from sklearn.preprocessing import Imputer\n",
    "imputer= Imputer(missing_values='NaN', strategy ='mean', axis=0)\n",
    "imputer.fit(X[:,:])\n",
    "X[:,]= imputer.transform(X[:,:])\n",
    "X"
   ]
  },
  {
   "cell_type": "code",
   "execution_count": 5,
   "metadata": {},
   "outputs": [],
   "source": [
    "from sklearn.model_selection import train_test_split\n",
    "X_train,X_test,y_train,y_test= train_test_split(X,y,test_size=0.2,random_state=0)"
   ]
  },
  {
   "cell_type": "code",
   "execution_count": 6,
   "metadata": {},
   "outputs": [
    {
     "data": {
      "text/plain": [
       "'\"from sklearn.preprocessing import StandardScaler\\nsc_X= StandardScaler()\\nX_train= sc_X.fit_transform(X_train)\\nX_test= sc_X.transform(X_test)'"
      ]
     },
     "execution_count": 6,
     "metadata": {},
     "output_type": "execute_result"
    }
   ],
   "source": [
    "\"\"\"\"from sklearn.preprocessing import StandardScaler\n",
    "sc_X= StandardScaler()\n",
    "X_train= sc_X.fit_transform(X_train)\n",
    "X_test= sc_X.transform(X_test)\"\"\""
   ]
  },
  {
   "cell_type": "code",
   "execution_count": 7,
   "metadata": {},
   "outputs": [
    {
     "data": {
      "text/plain": [
       "RandomForestClassifier(bootstrap=True, class_weight=None, criterion='entropy',\n",
       "                       max_depth=None, max_features='auto', max_leaf_nodes=None,\n",
       "                       min_impurity_decrease=0.0, min_impurity_split=None,\n",
       "                       min_samples_leaf=1, min_samples_split=2,\n",
       "                       min_weight_fraction_leaf=0.0, n_estimators=50,\n",
       "                       n_jobs=None, oob_score=False, random_state=0, verbose=0,\n",
       "                       warm_start=False)"
      ]
     },
     "execution_count": 7,
     "metadata": {},
     "output_type": "execute_result"
    }
   ],
   "source": [
    "from sklearn.ensemble import RandomForestClassifier\n",
    "classifier= RandomForestClassifier(n_estimators=50,criterion='entropy',random_state=0)\n",
    "classifier.fit(X_train,y_train)"
   ]
  },
  {
   "cell_type": "code",
   "execution_count": 8,
   "metadata": {},
   "outputs": [],
   "source": [
    "y_pred=classifier.predict(X_test)"
   ]
  },
  {
   "cell_type": "code",
   "execution_count": 9,
   "metadata": {},
   "outputs": [
    {
     "name": "stdout",
     "output_type": "stream",
     "text": [
      "720\n"
     ]
    }
   ],
   "source": [
    "print(y_pred.size)"
   ]
  },
  {
   "cell_type": "code",
   "execution_count": 10,
   "metadata": {},
   "outputs": [
    {
     "data": {
      "text/plain": [
       "array([[118,   0,   0,   0,   0,   0],\n",
       "       [  0, 129,   5,   0,   0,   0],\n",
       "       [  0,   2, 105,   0,   0,   0],\n",
       "       [  0,   0,   0, 127,   0,   0],\n",
       "       [  0,   0,   0,   0, 106,   0],\n",
       "       [  0,   0,   0,   3,   0, 125]], dtype=int64)"
      ]
     },
     "execution_count": 10,
     "metadata": {},
     "output_type": "execute_result"
    }
   ],
   "source": [
    "from sklearn.metrics import confusion_matrix\n",
    "cm= confusion_matrix(y_test,y_pred)\n",
    "cm"
   ]
  }
 ],
 "metadata": {
  "kernelspec": {
   "display_name": "Python 3",
   "language": "python",
   "name": "python3"
  },
  "language_info": {
   "codemirror_mode": {
    "name": "ipython",
    "version": 3
   },
   "file_extension": ".py",
   "mimetype": "text/x-python",
   "name": "python",
   "nbconvert_exporter": "python",
   "pygments_lexer": "ipython3",
   "version": "3.7.3"
  }
 },
 "nbformat": 4,
 "nbformat_minor": 2
}
